{
 "cells": [
  {
   "cell_type": "code",
   "execution_count": 1,
   "metadata": {
    "vscode": {
     "languageId": "r"
    }
   },
   "outputs": [
    {
     "name": "stderr",
     "output_type": "stream",
     "text": [
      "要求されたパッケージ StanHeaders をロード中です\n",
      "\n",
      "\n",
      "rstan version 2.32.6 (Stan version 2.32.2)\n",
      "\n",
      "\n",
      "For execution on a local, multicore CPU with excess RAM we recommend calling\n",
      "options(mc.cores = parallel::detectCores()).\n",
      "To avoid recompilation of unchanged Stan programs, we recommend calling\n",
      "rstan_options(auto_write = TRUE)\n",
      "For within-chain threading using `reduce_sum()` or `map_rect()` Stan functions,\n",
      "change `threads_per_chain` option:\n",
      "rstan_options(threads_per_chain = 1)\n",
      "\n",
      "\n",
      "here() starts at /media/e595/Game/プロジェクト置き場/RとStanで始めるベイズ統計モデリング\n",
      "\n",
      "This is bayesplot version 1.11.1\n",
      "\n",
      "- Online documentation and vignettes at mc-stan.org/bayesplot\n",
      "\n",
      "- bayesplot theme set to bayesplot::theme_default()\n",
      "\n",
      "   * Does _not_ affect other ggplot2 plots\n",
      "\n",
      "   * See ?bayesplot_theme_set for details on theme setting\n",
      "\n"
     ]
    }
   ],
   "source": [
    "library(rstan)\n",
    "library(here)\n",
    "library(ggplot2)\n",
    "library(bayesplot)\n",
    "\n",
    "# 計算の高速化\n",
    "rstan_options(auto_write = TRUE)\n",
    "options(mc.cores = parallel::detectCores())\n",
    "\n",
    "file_beer_sales_2 <- read.csv(here(\"data\", \"3-2-1-beer-sales-2.csv\"))\n",
    "sample_size <- nrow(file_beer_sales_2)\n"
   ]
  },
  {
   "cell_type": "code",
   "execution_count": 3,
   "metadata": {
    "vscode": {
     "languageId": "r"
    }
   },
   "outputs": [],
   "source": [
    "# formulaの作成\n",
    "formula_lm <- formula(sales ~ temperature)\n",
    "\n",
    "# デザイン行列\n",
    "X <- model.matrix(formula_lm, file_beer_sales_2)\n"
   ]
  },
  {
   "cell_type": "code",
   "execution_count": 5,
   "metadata": {
    "vscode": {
     "languageId": "r"
    }
   },
   "outputs": [],
   "source": [
    "N <- nrow(file_beer_sales_2)\n",
    "# デザイン行列の列数 説明変数+1\n",
    "K <- 2\n",
    "# 応答変数\n",
    "Y <- file_beer_sales_2$sales\n",
    "\n",
    "data_list_design <- list(\n",
    "  N = N,\n",
    "  K = K,\n",
    "  Y = Y,\n",
    "  X = X\n",
    ")\n",
    "\n",
    "# MCMC\n",
    "mcmc_result_design <- stan(\n",
    "  file = here(\"3部\", \"3-4-1-lm-design-matrix.stan\"),\n",
    "  data = data_list_design,\n",
    "  seed = 1\n",
    ")\n"
   ]
  },
  {
   "cell_type": "code",
   "execution_count": 6,
   "metadata": {
    "vscode": {
     "languageId": "r"
    }
   },
   "outputs": [
    {
     "name": "stdout",
     "output_type": "stream",
     "text": [
      "Inference for Stan model: anon_model.\n",
      "4 chains, each with iter=2000; warmup=1000; thin=1; \n",
      "post-warmup draws per chain=1000, total post-warmup draws=4000.\n",
      "\n",
      "         mean se_mean   sd    2.5%   97.5% n_eff Rhat\n",
      "b[1]    21.24    0.17 6.06    9.28   33.02  1343    1\n",
      "b[2]     2.45    0.01 0.29    1.90    3.04  1355    1\n",
      "sigma   17.06    0.03 1.27   14.77   19.80  1875    1\n",
      "lp__  -330.16    0.03 1.24 -333.43 -328.74  1309    1\n",
      "\n",
      "Samples were drawn using NUTS(diag_e) at Sat Jul 20 16:40:29 2024.\n",
      "For each parameter, n_eff is a crude measure of effective sample size,\n",
      "and Rhat is the potential scale reduction factor on split chains (at \n",
      "convergence, Rhat=1).\n"
     ]
    }
   ],
   "source": [
    "print(mcmc_result_design, probs = c(0.025, 0.975))\n"
   ]
  }
 ],
 "metadata": {
  "kernelspec": {
   "display_name": "R",
   "language": "R",
   "name": "ir"
  },
  "language_info": {
   "codemirror_mode": "r",
   "file_extension": ".r",
   "mimetype": "text/x-r-source",
   "name": "R",
   "pygments_lexer": "r",
   "version": "4.4.1"
  }
 },
 "nbformat": 4,
 "nbformat_minor": 2
}
